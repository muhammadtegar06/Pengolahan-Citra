{
 "cells": [
  {
   "cell_type": "code",
   "execution_count": 1,
   "id": "263e2478",
   "metadata": {},
   "outputs": [],
   "source": [
    "import cv2\n",
    "import numpy as np\n",
    "from matplotlib import pyplot as plt"
   ]
  },
  {
   "cell_type": "code",
   "execution_count": 2,
   "id": "28c9bd54",
   "metadata": {},
   "outputs": [],
   "source": [
    "daun = cv2.imread(\"daun.jpg\", 0)\n",
    "tinggi, lebar = daun.shape"
   ]
  },
  {
   "cell_type": "code",
   "execution_count": 3,
   "id": "e2fc49d6",
   "metadata": {},
   "outputs": [],
   "source": [
    "cv2.imshow(\"Gambar Asli Daun\", daun)\n",
    "cv2.waitKey()\n",
    "cv2.destroyAllWindows()"
   ]
  },
  {
   "cell_type": "markdown",
   "id": "a91a92c8",
   "metadata": {},
   "source": [
    "# Pengambangan Dwi Aras dengan perkiraan nilai ambang"
   ]
  },
  {
   "cell_type": "code",
   "execution_count": 4,
   "id": "9412f229",
   "metadata": {},
   "outputs": [],
   "source": [
    "nilai_ambang = 128\n",
    "daun_hasil = daun.copy()\n",
    "for x in range (tinggi):\n",
    "    for y in range(lebar):\n",
    "        if daun[x,y] < nilai_ambang :\n",
    "            daun_hasil[x,y] = 0\n",
    "        else :\n",
    "            daun_hasil[x,y] = 255"
   ]
  },
  {
   "cell_type": "code",
   "execution_count": 5,
   "id": "2d148499",
   "metadata": {},
   "outputs": [],
   "source": [
    "cv2.imshow(\"aras daun\", daun_hasil)\n",
    "cv2.waitKey()\n",
    "cv2.destroyAllWindows()"
   ]
  },
  {
   "cell_type": "markdown",
   "id": "2027a116",
   "metadata": {},
   "source": [
    "# Menentukan Nilai ambang suatu gambar"
   ]
  },
  {
   "cell_type": "code",
   "execution_count": 9,
   "id": "17b15694",
   "metadata": {},
   "outputs": [],
   "source": [
    "def titeratif(image) :\n",
    "    tinggi, lebar = image.shape\n",
    "    t0 = 127\n",
    "    while(True) :\n",
    "        rata_kiri = 0;\n",
    "        rata_kanan = 0;\n",
    "        jum_kiri = 0;\n",
    "        jum_kanan = 0;\n",
    "        for x in range(tinggi):\n",
    "            for y in range(lebar):\n",
    "                if (image[x,y] <= 127):\n",
    "                    rata_kiri = rata_kiri + image[x,y]\n",
    "                    jum_kiri = jum_kiri + 1\n",
    "                else :\n",
    "                    rata_kanan = rata_kanan + image[x,y]\n",
    "                    jum_kanan = jum_kanan + 1\n",
    "                    \n",
    "        rata_kiri = rata_kiri / jum_kiri\n",
    "        rata_kanan = rata_kanan / jum_kanan\n",
    "        t1 = (rata_kiri + rata_kanan) / 2\n",
    "        if ((t0-t1) < 1):\n",
    "            break\n",
    "        t0 = t1\n",
    "    return round(t1)"
   ]
  },
  {
   "cell_type": "code",
   "execution_count": 10,
   "id": "6ec72918",
   "metadata": {},
   "outputs": [
    {
     "data": {
      "text/plain": [
       "131"
      ]
     },
     "execution_count": 10,
     "metadata": {},
     "output_type": "execute_result"
    }
   ],
   "source": [
    "titeratif(daun)"
   ]
  },
  {
   "cell_type": "code",
   "execution_count": null,
   "id": "f261be6f",
   "metadata": {},
   "outputs": [],
   "source": []
  }
 ],
 "metadata": {
  "kernelspec": {
   "display_name": "Python 3 (ipykernel)",
   "language": "python",
   "name": "python3"
  },
  "language_info": {
   "codemirror_mode": {
    "name": "ipython",
    "version": 3
   },
   "file_extension": ".py",
   "mimetype": "text/x-python",
   "name": "python",
   "nbconvert_exporter": "python",
   "pygments_lexer": "ipython3",
   "version": "3.10.9"
  }
 },
 "nbformat": 4,
 "nbformat_minor": 5
}
